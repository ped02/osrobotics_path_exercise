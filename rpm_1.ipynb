{
 "cells": [
  {
   "cell_type": "code",
   "execution_count": 1,
   "metadata": {},
   "outputs": [],
   "source": [
    "import math\n",
    "import random\n",
    "\n",
    "import numpy as np\n",
    "\n",
    "%matplotlib notebook\n",
    "import matplotlib \n",
    "import matplotlib.pyplot as plt\n",
    "\n",
    "import environment_2d"
   ]
  },
  {
   "cell_type": "code",
   "execution_count": 2,
   "metadata": {},
   "outputs": [],
   "source": [
    "np.random.seed(4)"
   ]
  },
  {
   "cell_type": "code",
   "execution_count": 3,
   "metadata": {
    "scrolled": false
   },
   "outputs": [],
   "source": [
    "env = environment_2d.EnvironmentFast(10, 6, 5)\n",
    "#env = environment_2d.Environment(10, 6, 5)"
   ]
  },
  {
   "cell_type": "code",
   "execution_count": 4,
   "metadata": {},
   "outputs": [],
   "source": [
    "class PRM:\n",
    "    def __init__(self, env, radius):\n",
    "        self.env = env\n",
    "        \n",
    "        self.bounds = np.array([self.env.size_x, self.env.size_y], dtype=float)\n",
    "        self.r = radius\n",
    "        self.r2 = radius * radius\n",
    "    \n",
    "        self.reset()\n",
    "    \n",
    "    def reset(self):\n",
    "        self.nodes = []\n",
    "        self.adj_list = []\n",
    "        \n",
    "    def add_node(self) -> bool:\n",
    "        \"\"\"\n",
    "        \n",
    "        Returns\n",
    "        ----------\n",
    "        bool: if node was added\n",
    "        \"\"\"\n",
    "        \n",
    "        # Sample random point in configuration space\n",
    "        MAX_ATTEMPTS = 100\n",
    "        point_found = False\n",
    "        for i in range(MAX_ATTEMPTS):\n",
    "            rand_point = np.multiply(np.random.rand(2), self.bounds)\n",
    "            if not self.env.check_collision_np(rand_point):\n",
    "                point_found = True\n",
    "                break\n",
    "        \n",
    "        if not point_found:\n",
    "            return False \n",
    "        \n",
    "        # Starting Condition\n",
    "        if len(self.nodes) == 0:\n",
    "            self.nodes.append(rand_point)\n",
    "            self.adj_list.append([])\n",
    "            return True\n",
    "        \n",
    "        # Find neighbouring points within radius to connect to\n",
    "        nodes_np = np.array(self.nodes)\n",
    "        d = nodes_np - rand_point\n",
    "        dist2 = np.sum(np.power(d,2), 1)\n",
    "        in_rad_mask = dist2 < self.r2\n",
    "        \n",
    "        inds = np.where(in_rad_mask)[0]\n",
    "        \n",
    "        new_n = len(self.nodes)\n",
    "        connect = []\n",
    "        \n",
    "        # Check traversibility to the neighbour node then connect graph\n",
    "        for i in range(len(inds)):\n",
    "            ind = inds[i]\n",
    "            if self.env.check_segment_outside_np(rand_point.reshape(2,), nodes_np[ind].reshape(2,)):\n",
    "                connect.append(ind)\n",
    "                self.adj_list[ind].append(new_n)\n",
    "        self.nodes.append(rand_point)\n",
    "        self.adj_list.append(connect)\n",
    "        \n",
    "        return True\n",
    "    \n",
    "    def plot(self, c='b'):\n",
    "        nodes_np = np.array(self.nodes)\n",
    "        \n",
    "        plt.scatter(nodes_np[:,0], nodes_np[:,1], c=c)\n",
    "        \n",
    "        # No duplicate filter because only for debug visualization\n",
    "        for src_ind, li in enumerate(self.adj_list):\n",
    "            src_node = self.nodes[src_ind]\n",
    "            for dst_ind in li:\n",
    "                dst_node = self.nodes[dst_ind]\n",
    "                plt.plot([src_node[0], dst_node[0]], [src_node[1], dst_node[1]], c)\n",
    "                \n",
    "        plt.show()"
   ]
  },
  {
   "cell_type": "code",
   "execution_count": 9,
   "metadata": {},
   "outputs": [
    {
     "data": {
      "application/javascript": [
       "/* Put everything inside the global mpl namespace */\n",
       "/* global mpl */\n",
       "window.mpl = {};\n",
       "\n",
       "mpl.get_websocket_type = function () {\n",
       "    if (typeof WebSocket !== 'undefined') {\n",
       "        return WebSocket;\n",
       "    } else if (typeof MozWebSocket !== 'undefined') {\n",
       "        return MozWebSocket;\n",
       "    } else {\n",
       "        alert(\n",
       "            'Your browser does not have WebSocket support. ' +\n",
       "                'Please try Chrome, Safari or Firefox ≥ 6. ' +\n",
       "                'Firefox 4 and 5 are also supported but you ' +\n",
       "                'have to enable WebSockets in about:config.'\n",
       "        );\n",
       "    }\n",
       "};\n",
       "\n",
       "mpl.figure = function (figure_id, websocket, ondownload, parent_element) {\n",
       "    this.id = figure_id;\n",
       "\n",
       "    this.ws = websocket;\n",
       "\n",
       "    this.supports_binary = this.ws.binaryType !== undefined;\n",
       "\n",
       "    if (!this.supports_binary) {\n",
       "        var warnings = document.getElementById('mpl-warnings');\n",
       "        if (warnings) {\n",
       "            warnings.style.display = 'block';\n",
       "            warnings.textContent =\n",
       "                'This browser does not support binary websocket messages. ' +\n",
       "                'Performance may be slow.';\n",
       "        }\n",
       "    }\n",
       "\n",
       "    this.imageObj = new Image();\n",
       "\n",
       "    this.context = undefined;\n",
       "    this.message = undefined;\n",
       "    this.canvas = undefined;\n",
       "    this.rubberband_canvas = undefined;\n",
       "    this.rubberband_context = undefined;\n",
       "    this.format_dropdown = undefined;\n",
       "\n",
       "    this.image_mode = 'full';\n",
       "\n",
       "    this.root = document.createElement('div');\n",
       "    this.root.setAttribute('style', 'display: inline-block');\n",
       "    this._root_extra_style(this.root);\n",
       "\n",
       "    parent_element.appendChild(this.root);\n",
       "\n",
       "    this._init_header(this);\n",
       "    this._init_canvas(this);\n",
       "    this._init_toolbar(this);\n",
       "\n",
       "    var fig = this;\n",
       "\n",
       "    this.waiting = false;\n",
       "\n",
       "    this.ws.onopen = function () {\n",
       "        fig.send_message('supports_binary', { value: fig.supports_binary });\n",
       "        fig.send_message('send_image_mode', {});\n",
       "        if (fig.ratio !== 1) {\n",
       "            fig.send_message('set_device_pixel_ratio', {\n",
       "                device_pixel_ratio: fig.ratio,\n",
       "            });\n",
       "        }\n",
       "        fig.send_message('refresh', {});\n",
       "    };\n",
       "\n",
       "    this.imageObj.onload = function () {\n",
       "        if (fig.image_mode === 'full') {\n",
       "            // Full images could contain transparency (where diff images\n",
       "            // almost always do), so we need to clear the canvas so that\n",
       "            // there is no ghosting.\n",
       "            fig.context.clearRect(0, 0, fig.canvas.width, fig.canvas.height);\n",
       "        }\n",
       "        fig.context.drawImage(fig.imageObj, 0, 0);\n",
       "    };\n",
       "\n",
       "    this.imageObj.onunload = function () {\n",
       "        fig.ws.close();\n",
       "    };\n",
       "\n",
       "    this.ws.onmessage = this._make_on_message_function(this);\n",
       "\n",
       "    this.ondownload = ondownload;\n",
       "};\n",
       "\n",
       "mpl.figure.prototype._init_header = function () {\n",
       "    var titlebar = document.createElement('div');\n",
       "    titlebar.classList =\n",
       "        'ui-dialog-titlebar ui-widget-header ui-corner-all ui-helper-clearfix';\n",
       "    var titletext = document.createElement('div');\n",
       "    titletext.classList = 'ui-dialog-title';\n",
       "    titletext.setAttribute(\n",
       "        'style',\n",
       "        'width: 100%; text-align: center; padding: 3px;'\n",
       "    );\n",
       "    titlebar.appendChild(titletext);\n",
       "    this.root.appendChild(titlebar);\n",
       "    this.header = titletext;\n",
       "};\n",
       "\n",
       "mpl.figure.prototype._canvas_extra_style = function (_canvas_div) {};\n",
       "\n",
       "mpl.figure.prototype._root_extra_style = function (_canvas_div) {};\n",
       "\n",
       "mpl.figure.prototype._init_canvas = function () {\n",
       "    var fig = this;\n",
       "\n",
       "    var canvas_div = (this.canvas_div = document.createElement('div'));\n",
       "    canvas_div.setAttribute(\n",
       "        'style',\n",
       "        'border: 1px solid #ddd;' +\n",
       "            'box-sizing: content-box;' +\n",
       "            'clear: both;' +\n",
       "            'min-height: 1px;' +\n",
       "            'min-width: 1px;' +\n",
       "            'outline: 0;' +\n",
       "            'overflow: hidden;' +\n",
       "            'position: relative;' +\n",
       "            'resize: both;'\n",
       "    );\n",
       "\n",
       "    function on_keyboard_event_closure(name) {\n",
       "        return function (event) {\n",
       "            return fig.key_event(event, name);\n",
       "        };\n",
       "    }\n",
       "\n",
       "    canvas_div.addEventListener(\n",
       "        'keydown',\n",
       "        on_keyboard_event_closure('key_press')\n",
       "    );\n",
       "    canvas_div.addEventListener(\n",
       "        'keyup',\n",
       "        on_keyboard_event_closure('key_release')\n",
       "    );\n",
       "\n",
       "    this._canvas_extra_style(canvas_div);\n",
       "    this.root.appendChild(canvas_div);\n",
       "\n",
       "    var canvas = (this.canvas = document.createElement('canvas'));\n",
       "    canvas.classList.add('mpl-canvas');\n",
       "    canvas.setAttribute('style', 'box-sizing: content-box;');\n",
       "\n",
       "    this.context = canvas.getContext('2d');\n",
       "\n",
       "    var backingStore =\n",
       "        this.context.backingStorePixelRatio ||\n",
       "        this.context.webkitBackingStorePixelRatio ||\n",
       "        this.context.mozBackingStorePixelRatio ||\n",
       "        this.context.msBackingStorePixelRatio ||\n",
       "        this.context.oBackingStorePixelRatio ||\n",
       "        this.context.backingStorePixelRatio ||\n",
       "        1;\n",
       "\n",
       "    this.ratio = (window.devicePixelRatio || 1) / backingStore;\n",
       "\n",
       "    var rubberband_canvas = (this.rubberband_canvas = document.createElement(\n",
       "        'canvas'\n",
       "    ));\n",
       "    rubberband_canvas.setAttribute(\n",
       "        'style',\n",
       "        'box-sizing: content-box; position: absolute; left: 0; top: 0; z-index: 1;'\n",
       "    );\n",
       "\n",
       "    // Apply a ponyfill if ResizeObserver is not implemented by browser.\n",
       "    if (this.ResizeObserver === undefined) {\n",
       "        if (window.ResizeObserver !== undefined) {\n",
       "            this.ResizeObserver = window.ResizeObserver;\n",
       "        } else {\n",
       "            var obs = _JSXTOOLS_RESIZE_OBSERVER({});\n",
       "            this.ResizeObserver = obs.ResizeObserver;\n",
       "        }\n",
       "    }\n",
       "\n",
       "    this.resizeObserverInstance = new this.ResizeObserver(function (entries) {\n",
       "        var nentries = entries.length;\n",
       "        for (var i = 0; i < nentries; i++) {\n",
       "            var entry = entries[i];\n",
       "            var width, height;\n",
       "            if (entry.contentBoxSize) {\n",
       "                if (entry.contentBoxSize instanceof Array) {\n",
       "                    // Chrome 84 implements new version of spec.\n",
       "                    width = entry.contentBoxSize[0].inlineSize;\n",
       "                    height = entry.contentBoxSize[0].blockSize;\n",
       "                } else {\n",
       "                    // Firefox implements old version of spec.\n",
       "                    width = entry.contentBoxSize.inlineSize;\n",
       "                    height = entry.contentBoxSize.blockSize;\n",
       "                }\n",
       "            } else {\n",
       "                // Chrome <84 implements even older version of spec.\n",
       "                width = entry.contentRect.width;\n",
       "                height = entry.contentRect.height;\n",
       "            }\n",
       "\n",
       "            // Keep the size of the canvas and rubber band canvas in sync with\n",
       "            // the canvas container.\n",
       "            if (entry.devicePixelContentBoxSize) {\n",
       "                // Chrome 84 implements new version of spec.\n",
       "                canvas.setAttribute(\n",
       "                    'width',\n",
       "                    entry.devicePixelContentBoxSize[0].inlineSize\n",
       "                );\n",
       "                canvas.setAttribute(\n",
       "                    'height',\n",
       "                    entry.devicePixelContentBoxSize[0].blockSize\n",
       "                );\n",
       "            } else {\n",
       "                canvas.setAttribute('width', width * fig.ratio);\n",
       "                canvas.setAttribute('height', height * fig.ratio);\n",
       "            }\n",
       "            canvas.setAttribute(\n",
       "                'style',\n",
       "                'width: ' + width + 'px; height: ' + height + 'px;'\n",
       "            );\n",
       "\n",
       "            rubberband_canvas.setAttribute('width', width);\n",
       "            rubberband_canvas.setAttribute('height', height);\n",
       "\n",
       "            // And update the size in Python. We ignore the initial 0/0 size\n",
       "            // that occurs as the element is placed into the DOM, which should\n",
       "            // otherwise not happen due to the minimum size styling.\n",
       "            if (fig.ws.readyState == 1 && width != 0 && height != 0) {\n",
       "                fig.request_resize(width, height);\n",
       "            }\n",
       "        }\n",
       "    });\n",
       "    this.resizeObserverInstance.observe(canvas_div);\n",
       "\n",
       "    function on_mouse_event_closure(name) {\n",
       "        return function (event) {\n",
       "            return fig.mouse_event(event, name);\n",
       "        };\n",
       "    }\n",
       "\n",
       "    rubberband_canvas.addEventListener(\n",
       "        'mousedown',\n",
       "        on_mouse_event_closure('button_press')\n",
       "    );\n",
       "    rubberband_canvas.addEventListener(\n",
       "        'mouseup',\n",
       "        on_mouse_event_closure('button_release')\n",
       "    );\n",
       "    rubberband_canvas.addEventListener(\n",
       "        'dblclick',\n",
       "        on_mouse_event_closure('dblclick')\n",
       "    );\n",
       "    // Throttle sequential mouse events to 1 every 20ms.\n",
       "    rubberband_canvas.addEventListener(\n",
       "        'mousemove',\n",
       "        on_mouse_event_closure('motion_notify')\n",
       "    );\n",
       "\n",
       "    rubberband_canvas.addEventListener(\n",
       "        'mouseenter',\n",
       "        on_mouse_event_closure('figure_enter')\n",
       "    );\n",
       "    rubberband_canvas.addEventListener(\n",
       "        'mouseleave',\n",
       "        on_mouse_event_closure('figure_leave')\n",
       "    );\n",
       "\n",
       "    canvas_div.addEventListener('wheel', function (event) {\n",
       "        if (event.deltaY < 0) {\n",
       "            event.step = 1;\n",
       "        } else {\n",
       "            event.step = -1;\n",
       "        }\n",
       "        on_mouse_event_closure('scroll')(event);\n",
       "    });\n",
       "\n",
       "    canvas_div.appendChild(canvas);\n",
       "    canvas_div.appendChild(rubberband_canvas);\n",
       "\n",
       "    this.rubberband_context = rubberband_canvas.getContext('2d');\n",
       "    this.rubberband_context.strokeStyle = '#000000';\n",
       "\n",
       "    this._resize_canvas = function (width, height, forward) {\n",
       "        if (forward) {\n",
       "            canvas_div.style.width = width + 'px';\n",
       "            canvas_div.style.height = height + 'px';\n",
       "        }\n",
       "    };\n",
       "\n",
       "    // Disable right mouse context menu.\n",
       "    this.rubberband_canvas.addEventListener('contextmenu', function (_e) {\n",
       "        event.preventDefault();\n",
       "        return false;\n",
       "    });\n",
       "\n",
       "    function set_focus() {\n",
       "        canvas.focus();\n",
       "        canvas_div.focus();\n",
       "    }\n",
       "\n",
       "    window.setTimeout(set_focus, 100);\n",
       "};\n",
       "\n",
       "mpl.figure.prototype._init_toolbar = function () {\n",
       "    var fig = this;\n",
       "\n",
       "    var toolbar = document.createElement('div');\n",
       "    toolbar.classList = 'mpl-toolbar';\n",
       "    this.root.appendChild(toolbar);\n",
       "\n",
       "    function on_click_closure(name) {\n",
       "        return function (_event) {\n",
       "            return fig.toolbar_button_onclick(name);\n",
       "        };\n",
       "    }\n",
       "\n",
       "    function on_mouseover_closure(tooltip) {\n",
       "        return function (event) {\n",
       "            if (!event.currentTarget.disabled) {\n",
       "                return fig.toolbar_button_onmouseover(tooltip);\n",
       "            }\n",
       "        };\n",
       "    }\n",
       "\n",
       "    fig.buttons = {};\n",
       "    var buttonGroup = document.createElement('div');\n",
       "    buttonGroup.classList = 'mpl-button-group';\n",
       "    for (var toolbar_ind in mpl.toolbar_items) {\n",
       "        var name = mpl.toolbar_items[toolbar_ind][0];\n",
       "        var tooltip = mpl.toolbar_items[toolbar_ind][1];\n",
       "        var image = mpl.toolbar_items[toolbar_ind][2];\n",
       "        var method_name = mpl.toolbar_items[toolbar_ind][3];\n",
       "\n",
       "        if (!name) {\n",
       "            /* Instead of a spacer, we start a new button group. */\n",
       "            if (buttonGroup.hasChildNodes()) {\n",
       "                toolbar.appendChild(buttonGroup);\n",
       "            }\n",
       "            buttonGroup = document.createElement('div');\n",
       "            buttonGroup.classList = 'mpl-button-group';\n",
       "            continue;\n",
       "        }\n",
       "\n",
       "        var button = (fig.buttons[name] = document.createElement('button'));\n",
       "        button.classList = 'mpl-widget';\n",
       "        button.setAttribute('role', 'button');\n",
       "        button.setAttribute('aria-disabled', 'false');\n",
       "        button.addEventListener('click', on_click_closure(method_name));\n",
       "        button.addEventListener('mouseover', on_mouseover_closure(tooltip));\n",
       "\n",
       "        var icon_img = document.createElement('img');\n",
       "        icon_img.src = '_images/' + image + '.png';\n",
       "        icon_img.srcset = '_images/' + image + '_large.png 2x';\n",
       "        icon_img.alt = tooltip;\n",
       "        button.appendChild(icon_img);\n",
       "\n",
       "        buttonGroup.appendChild(button);\n",
       "    }\n",
       "\n",
       "    if (buttonGroup.hasChildNodes()) {\n",
       "        toolbar.appendChild(buttonGroup);\n",
       "    }\n",
       "\n",
       "    var fmt_picker = document.createElement('select');\n",
       "    fmt_picker.classList = 'mpl-widget';\n",
       "    toolbar.appendChild(fmt_picker);\n",
       "    this.format_dropdown = fmt_picker;\n",
       "\n",
       "    for (var ind in mpl.extensions) {\n",
       "        var fmt = mpl.extensions[ind];\n",
       "        var option = document.createElement('option');\n",
       "        option.selected = fmt === mpl.default_extension;\n",
       "        option.innerHTML = fmt;\n",
       "        fmt_picker.appendChild(option);\n",
       "    }\n",
       "\n",
       "    var status_bar = document.createElement('span');\n",
       "    status_bar.classList = 'mpl-message';\n",
       "    toolbar.appendChild(status_bar);\n",
       "    this.message = status_bar;\n",
       "};\n",
       "\n",
       "mpl.figure.prototype.request_resize = function (x_pixels, y_pixels) {\n",
       "    // Request matplotlib to resize the figure. Matplotlib will then trigger a resize in the client,\n",
       "    // which will in turn request a refresh of the image.\n",
       "    this.send_message('resize', { width: x_pixels, height: y_pixels });\n",
       "};\n",
       "\n",
       "mpl.figure.prototype.send_message = function (type, properties) {\n",
       "    properties['type'] = type;\n",
       "    properties['figure_id'] = this.id;\n",
       "    this.ws.send(JSON.stringify(properties));\n",
       "};\n",
       "\n",
       "mpl.figure.prototype.send_draw_message = function () {\n",
       "    if (!this.waiting) {\n",
       "        this.waiting = true;\n",
       "        this.ws.send(JSON.stringify({ type: 'draw', figure_id: this.id }));\n",
       "    }\n",
       "};\n",
       "\n",
       "mpl.figure.prototype.handle_save = function (fig, _msg) {\n",
       "    var format_dropdown = fig.format_dropdown;\n",
       "    var format = format_dropdown.options[format_dropdown.selectedIndex].value;\n",
       "    fig.ondownload(fig, format);\n",
       "};\n",
       "\n",
       "mpl.figure.prototype.handle_resize = function (fig, msg) {\n",
       "    var size = msg['size'];\n",
       "    if (size[0] !== fig.canvas.width || size[1] !== fig.canvas.height) {\n",
       "        fig._resize_canvas(size[0], size[1], msg['forward']);\n",
       "        fig.send_message('refresh', {});\n",
       "    }\n",
       "};\n",
       "\n",
       "mpl.figure.prototype.handle_rubberband = function (fig, msg) {\n",
       "    var x0 = msg['x0'] / fig.ratio;\n",
       "    var y0 = (fig.canvas.height - msg['y0']) / fig.ratio;\n",
       "    var x1 = msg['x1'] / fig.ratio;\n",
       "    var y1 = (fig.canvas.height - msg['y1']) / fig.ratio;\n",
       "    x0 = Math.floor(x0) + 0.5;\n",
       "    y0 = Math.floor(y0) + 0.5;\n",
       "    x1 = Math.floor(x1) + 0.5;\n",
       "    y1 = Math.floor(y1) + 0.5;\n",
       "    var min_x = Math.min(x0, x1);\n",
       "    var min_y = Math.min(y0, y1);\n",
       "    var width = Math.abs(x1 - x0);\n",
       "    var height = Math.abs(y1 - y0);\n",
       "\n",
       "    fig.rubberband_context.clearRect(\n",
       "        0,\n",
       "        0,\n",
       "        fig.canvas.width / fig.ratio,\n",
       "        fig.canvas.height / fig.ratio\n",
       "    );\n",
       "\n",
       "    fig.rubberband_context.strokeRect(min_x, min_y, width, height);\n",
       "};\n",
       "\n",
       "mpl.figure.prototype.handle_figure_label = function (fig, msg) {\n",
       "    // Updates the figure title.\n",
       "    fig.header.textContent = msg['label'];\n",
       "};\n",
       "\n",
       "mpl.figure.prototype.handle_cursor = function (fig, msg) {\n",
       "    fig.rubberband_canvas.style.cursor = msg['cursor'];\n",
       "};\n",
       "\n",
       "mpl.figure.prototype.handle_message = function (fig, msg) {\n",
       "    fig.message.textContent = msg['message'];\n",
       "};\n",
       "\n",
       "mpl.figure.prototype.handle_draw = function (fig, _msg) {\n",
       "    // Request the server to send over a new figure.\n",
       "    fig.send_draw_message();\n",
       "};\n",
       "\n",
       "mpl.figure.prototype.handle_image_mode = function (fig, msg) {\n",
       "    fig.image_mode = msg['mode'];\n",
       "};\n",
       "\n",
       "mpl.figure.prototype.handle_history_buttons = function (fig, msg) {\n",
       "    for (var key in msg) {\n",
       "        if (!(key in fig.buttons)) {\n",
       "            continue;\n",
       "        }\n",
       "        fig.buttons[key].disabled = !msg[key];\n",
       "        fig.buttons[key].setAttribute('aria-disabled', !msg[key]);\n",
       "    }\n",
       "};\n",
       "\n",
       "mpl.figure.prototype.handle_navigate_mode = function (fig, msg) {\n",
       "    if (msg['mode'] === 'PAN') {\n",
       "        fig.buttons['Pan'].classList.add('active');\n",
       "        fig.buttons['Zoom'].classList.remove('active');\n",
       "    } else if (msg['mode'] === 'ZOOM') {\n",
       "        fig.buttons['Pan'].classList.remove('active');\n",
       "        fig.buttons['Zoom'].classList.add('active');\n",
       "    } else {\n",
       "        fig.buttons['Pan'].classList.remove('active');\n",
       "        fig.buttons['Zoom'].classList.remove('active');\n",
       "    }\n",
       "};\n",
       "\n",
       "mpl.figure.prototype.updated_canvas_event = function () {\n",
       "    // Called whenever the canvas gets updated.\n",
       "    this.send_message('ack', {});\n",
       "};\n",
       "\n",
       "// A function to construct a web socket function for onmessage handling.\n",
       "// Called in the figure constructor.\n",
       "mpl.figure.prototype._make_on_message_function = function (fig) {\n",
       "    return function socket_on_message(evt) {\n",
       "        if (evt.data instanceof Blob) {\n",
       "            var img = evt.data;\n",
       "            if (img.type !== 'image/png') {\n",
       "                /* FIXME: We get \"Resource interpreted as Image but\n",
       "                 * transferred with MIME type text/plain:\" errors on\n",
       "                 * Chrome.  But how to set the MIME type?  It doesn't seem\n",
       "                 * to be part of the websocket stream */\n",
       "                img.type = 'image/png';\n",
       "            }\n",
       "\n",
       "            /* Free the memory for the previous frames */\n",
       "            if (fig.imageObj.src) {\n",
       "                (window.URL || window.webkitURL).revokeObjectURL(\n",
       "                    fig.imageObj.src\n",
       "                );\n",
       "            }\n",
       "\n",
       "            fig.imageObj.src = (window.URL || window.webkitURL).createObjectURL(\n",
       "                img\n",
       "            );\n",
       "            fig.updated_canvas_event();\n",
       "            fig.waiting = false;\n",
       "            return;\n",
       "        } else if (\n",
       "            typeof evt.data === 'string' &&\n",
       "            evt.data.slice(0, 21) === 'data:image/png;base64'\n",
       "        ) {\n",
       "            fig.imageObj.src = evt.data;\n",
       "            fig.updated_canvas_event();\n",
       "            fig.waiting = false;\n",
       "            return;\n",
       "        }\n",
       "\n",
       "        var msg = JSON.parse(evt.data);\n",
       "        var msg_type = msg['type'];\n",
       "\n",
       "        // Call the  \"handle_{type}\" callback, which takes\n",
       "        // the figure and JSON message as its only arguments.\n",
       "        try {\n",
       "            var callback = fig['handle_' + msg_type];\n",
       "        } catch (e) {\n",
       "            console.log(\n",
       "                \"No handler for the '\" + msg_type + \"' message type: \",\n",
       "                msg\n",
       "            );\n",
       "            return;\n",
       "        }\n",
       "\n",
       "        if (callback) {\n",
       "            try {\n",
       "                // console.log(\"Handling '\" + msg_type + \"' message: \", msg);\n",
       "                callback(fig, msg);\n",
       "            } catch (e) {\n",
       "                console.log(\n",
       "                    \"Exception inside the 'handler_\" + msg_type + \"' callback:\",\n",
       "                    e,\n",
       "                    e.stack,\n",
       "                    msg\n",
       "                );\n",
       "            }\n",
       "        }\n",
       "    };\n",
       "};\n",
       "\n",
       "// from https://stackoverflow.com/questions/1114465/getting-mouse-location-in-canvas\n",
       "mpl.findpos = function (e) {\n",
       "    //this section is from http://www.quirksmode.org/js/events_properties.html\n",
       "    var targ;\n",
       "    if (!e) {\n",
       "        e = window.event;\n",
       "    }\n",
       "    if (e.target) {\n",
       "        targ = e.target;\n",
       "    } else if (e.srcElement) {\n",
       "        targ = e.srcElement;\n",
       "    }\n",
       "    if (targ.nodeType === 3) {\n",
       "        // defeat Safari bug\n",
       "        targ = targ.parentNode;\n",
       "    }\n",
       "\n",
       "    // pageX,Y are the mouse positions relative to the document\n",
       "    var boundingRect = targ.getBoundingClientRect();\n",
       "    var x = e.pageX - (boundingRect.left + document.body.scrollLeft);\n",
       "    var y = e.pageY - (boundingRect.top + document.body.scrollTop);\n",
       "\n",
       "    return { x: x, y: y };\n",
       "};\n",
       "\n",
       "/*\n",
       " * return a copy of an object with only non-object keys\n",
       " * we need this to avoid circular references\n",
       " * https://stackoverflow.com/a/24161582/3208463\n",
       " */\n",
       "function simpleKeys(original) {\n",
       "    return Object.keys(original).reduce(function (obj, key) {\n",
       "        if (typeof original[key] !== 'object') {\n",
       "            obj[key] = original[key];\n",
       "        }\n",
       "        return obj;\n",
       "    }, {});\n",
       "}\n",
       "\n",
       "mpl.figure.prototype.mouse_event = function (event, name) {\n",
       "    var canvas_pos = mpl.findpos(event);\n",
       "\n",
       "    if (name === 'button_press') {\n",
       "        this.canvas.focus();\n",
       "        this.canvas_div.focus();\n",
       "    }\n",
       "\n",
       "    var x = canvas_pos.x * this.ratio;\n",
       "    var y = canvas_pos.y * this.ratio;\n",
       "\n",
       "    this.send_message(name, {\n",
       "        x: x,\n",
       "        y: y,\n",
       "        button: event.button,\n",
       "        step: event.step,\n",
       "        guiEvent: simpleKeys(event),\n",
       "    });\n",
       "\n",
       "    /* This prevents the web browser from automatically changing to\n",
       "     * the text insertion cursor when the button is pressed.  We want\n",
       "     * to control all of the cursor setting manually through the\n",
       "     * 'cursor' event from matplotlib */\n",
       "    event.preventDefault();\n",
       "    return false;\n",
       "};\n",
       "\n",
       "mpl.figure.prototype._key_event_extra = function (_event, _name) {\n",
       "    // Handle any extra behaviour associated with a key event\n",
       "};\n",
       "\n",
       "mpl.figure.prototype.key_event = function (event, name) {\n",
       "    // Prevent repeat events\n",
       "    if (name === 'key_press') {\n",
       "        if (event.key === this._key) {\n",
       "            return;\n",
       "        } else {\n",
       "            this._key = event.key;\n",
       "        }\n",
       "    }\n",
       "    if (name === 'key_release') {\n",
       "        this._key = null;\n",
       "    }\n",
       "\n",
       "    var value = '';\n",
       "    if (event.ctrlKey && event.key !== 'Control') {\n",
       "        value += 'ctrl+';\n",
       "    }\n",
       "    else if (event.altKey && event.key !== 'Alt') {\n",
       "        value += 'alt+';\n",
       "    }\n",
       "    else if (event.shiftKey && event.key !== 'Shift') {\n",
       "        value += 'shift+';\n",
       "    }\n",
       "\n",
       "    value += 'k' + event.key;\n",
       "\n",
       "    this._key_event_extra(event, name);\n",
       "\n",
       "    this.send_message(name, { key: value, guiEvent: simpleKeys(event) });\n",
       "    return false;\n",
       "};\n",
       "\n",
       "mpl.figure.prototype.toolbar_button_onclick = function (name) {\n",
       "    if (name === 'download') {\n",
       "        this.handle_save(this, null);\n",
       "    } else {\n",
       "        this.send_message('toolbar_button', { name: name });\n",
       "    }\n",
       "};\n",
       "\n",
       "mpl.figure.prototype.toolbar_button_onmouseover = function (tooltip) {\n",
       "    this.message.textContent = tooltip;\n",
       "};\n",
       "\n",
       "///////////////// REMAINING CONTENT GENERATED BY embed_js.py /////////////////\n",
       "// prettier-ignore\n",
       "var _JSXTOOLS_RESIZE_OBSERVER=function(A){var t,i=new WeakMap,n=new WeakMap,a=new WeakMap,r=new WeakMap,o=new Set;function s(e){if(!(this instanceof s))throw new TypeError(\"Constructor requires 'new' operator\");i.set(this,e)}function h(){throw new TypeError(\"Function is not a constructor\")}function c(e,t,i,n){e=0 in arguments?Number(arguments[0]):0,t=1 in arguments?Number(arguments[1]):0,i=2 in arguments?Number(arguments[2]):0,n=3 in arguments?Number(arguments[3]):0,this.right=(this.x=this.left=e)+(this.width=i),this.bottom=(this.y=this.top=t)+(this.height=n),Object.freeze(this)}function d(){t=requestAnimationFrame(d);var s=new WeakMap,p=new Set;o.forEach((function(t){r.get(t).forEach((function(i){var r=t instanceof window.SVGElement,o=a.get(t),d=r?0:parseFloat(o.paddingTop),f=r?0:parseFloat(o.paddingRight),l=r?0:parseFloat(o.paddingBottom),u=r?0:parseFloat(o.paddingLeft),g=r?0:parseFloat(o.borderTopWidth),m=r?0:parseFloat(o.borderRightWidth),w=r?0:parseFloat(o.borderBottomWidth),b=u+f,F=d+l,v=(r?0:parseFloat(o.borderLeftWidth))+m,W=g+w,y=r?0:t.offsetHeight-W-t.clientHeight,E=r?0:t.offsetWidth-v-t.clientWidth,R=b+v,z=F+W,M=r?t.width:parseFloat(o.width)-R-E,O=r?t.height:parseFloat(o.height)-z-y;if(n.has(t)){var k=n.get(t);if(k[0]===M&&k[1]===O)return}n.set(t,[M,O]);var S=Object.create(h.prototype);S.target=t,S.contentRect=new c(u,d,M,O),s.has(i)||(s.set(i,[]),p.add(i)),s.get(i).push(S)}))})),p.forEach((function(e){i.get(e).call(e,s.get(e),e)}))}return s.prototype.observe=function(i){if(i instanceof window.Element){r.has(i)||(r.set(i,new Set),o.add(i),a.set(i,window.getComputedStyle(i)));var n=r.get(i);n.has(this)||n.add(this),cancelAnimationFrame(t),t=requestAnimationFrame(d)}},s.prototype.unobserve=function(i){if(i instanceof window.Element&&r.has(i)){var n=r.get(i);n.has(this)&&(n.delete(this),n.size||(r.delete(i),o.delete(i))),n.size||r.delete(i),o.size||cancelAnimationFrame(t)}},A.DOMRectReadOnly=c,A.ResizeObserver=s,A.ResizeObserverEntry=h,A}; // eslint-disable-line\n",
       "mpl.toolbar_items = [[\"Home\", \"Reset original view\", \"fa fa-home icon-home\", \"home\"], [\"Back\", \"Back to previous view\", \"fa fa-arrow-left icon-arrow-left\", \"back\"], [\"Forward\", \"Forward to next view\", \"fa fa-arrow-right icon-arrow-right\", \"forward\"], [\"\", \"\", \"\", \"\"], [\"Pan\", \"Left button pans, Right button zooms\\nx/y fixes axis, CTRL fixes aspect\", \"fa fa-arrows icon-move\", \"pan\"], [\"Zoom\", \"Zoom to rectangle\\nx/y fixes axis\", \"fa fa-square-o icon-check-empty\", \"zoom\"], [\"\", \"\", \"\", \"\"], [\"Download\", \"Download plot\", \"fa fa-floppy-o icon-save\", \"download\"]];\n",
       "\n",
       "mpl.extensions = [\"eps\", \"jpeg\", \"pgf\", \"pdf\", \"png\", \"ps\", \"raw\", \"svg\", \"tif\"];\n",
       "\n",
       "mpl.default_extension = \"png\";/* global mpl */\n",
       "\n",
       "var comm_websocket_adapter = function (comm) {\n",
       "    // Create a \"websocket\"-like object which calls the given IPython comm\n",
       "    // object with the appropriate methods. Currently this is a non binary\n",
       "    // socket, so there is still some room for performance tuning.\n",
       "    var ws = {};\n",
       "\n",
       "    ws.binaryType = comm.kernel.ws.binaryType;\n",
       "    ws.readyState = comm.kernel.ws.readyState;\n",
       "    function updateReadyState(_event) {\n",
       "        if (comm.kernel.ws) {\n",
       "            ws.readyState = comm.kernel.ws.readyState;\n",
       "        } else {\n",
       "            ws.readyState = 3; // Closed state.\n",
       "        }\n",
       "    }\n",
       "    comm.kernel.ws.addEventListener('open', updateReadyState);\n",
       "    comm.kernel.ws.addEventListener('close', updateReadyState);\n",
       "    comm.kernel.ws.addEventListener('error', updateReadyState);\n",
       "\n",
       "    ws.close = function () {\n",
       "        comm.close();\n",
       "    };\n",
       "    ws.send = function (m) {\n",
       "        //console.log('sending', m);\n",
       "        comm.send(m);\n",
       "    };\n",
       "    // Register the callback with on_msg.\n",
       "    comm.on_msg(function (msg) {\n",
       "        //console.log('receiving', msg['content']['data'], msg);\n",
       "        var data = msg['content']['data'];\n",
       "        if (data['blob'] !== undefined) {\n",
       "            data = {\n",
       "                data: new Blob(msg['buffers'], { type: data['blob'] }),\n",
       "            };\n",
       "        }\n",
       "        // Pass the mpl event to the overridden (by mpl) onmessage function.\n",
       "        ws.onmessage(data);\n",
       "    });\n",
       "    return ws;\n",
       "};\n",
       "\n",
       "mpl.mpl_figure_comm = function (comm, msg) {\n",
       "    // This is the function which gets called when the mpl process\n",
       "    // starts-up an IPython Comm through the \"matplotlib\" channel.\n",
       "\n",
       "    var id = msg.content.data.id;\n",
       "    // Get hold of the div created by the display call when the Comm\n",
       "    // socket was opened in Python.\n",
       "    var element = document.getElementById(id);\n",
       "    var ws_proxy = comm_websocket_adapter(comm);\n",
       "\n",
       "    function ondownload(figure, _format) {\n",
       "        window.open(figure.canvas.toDataURL());\n",
       "    }\n",
       "\n",
       "    var fig = new mpl.figure(id, ws_proxy, ondownload, element);\n",
       "\n",
       "    // Call onopen now - mpl needs it, as it is assuming we've passed it a real\n",
       "    // web socket which is closed, not our websocket->open comm proxy.\n",
       "    ws_proxy.onopen();\n",
       "\n",
       "    fig.parent_element = element;\n",
       "    fig.cell_info = mpl.find_output_cell(\"<div id='\" + id + \"'></div>\");\n",
       "    if (!fig.cell_info) {\n",
       "        console.error('Failed to find cell for figure', id, fig);\n",
       "        return;\n",
       "    }\n",
       "    fig.cell_info[0].output_area.element.on(\n",
       "        'cleared',\n",
       "        { fig: fig },\n",
       "        fig._remove_fig_handler\n",
       "    );\n",
       "};\n",
       "\n",
       "mpl.figure.prototype.handle_close = function (fig, msg) {\n",
       "    var width = fig.canvas.width / fig.ratio;\n",
       "    fig.cell_info[0].output_area.element.off(\n",
       "        'cleared',\n",
       "        fig._remove_fig_handler\n",
       "    );\n",
       "    fig.resizeObserverInstance.unobserve(fig.canvas_div);\n",
       "\n",
       "    // Update the output cell to use the data from the current canvas.\n",
       "    fig.push_to_output();\n",
       "    var dataURL = fig.canvas.toDataURL();\n",
       "    // Re-enable the keyboard manager in IPython - without this line, in FF,\n",
       "    // the notebook keyboard shortcuts fail.\n",
       "    IPython.keyboard_manager.enable();\n",
       "    fig.parent_element.innerHTML =\n",
       "        '<img src=\"' + dataURL + '\" width=\"' + width + '\">';\n",
       "    fig.close_ws(fig, msg);\n",
       "};\n",
       "\n",
       "mpl.figure.prototype.close_ws = function (fig, msg) {\n",
       "    fig.send_message('closing', msg);\n",
       "    // fig.ws.close()\n",
       "};\n",
       "\n",
       "mpl.figure.prototype.push_to_output = function (_remove_interactive) {\n",
       "    // Turn the data on the canvas into data in the output cell.\n",
       "    var width = this.canvas.width / this.ratio;\n",
       "    var dataURL = this.canvas.toDataURL();\n",
       "    this.cell_info[1]['text/html'] =\n",
       "        '<img src=\"' + dataURL + '\" width=\"' + width + '\">';\n",
       "};\n",
       "\n",
       "mpl.figure.prototype.updated_canvas_event = function () {\n",
       "    // Tell IPython that the notebook contents must change.\n",
       "    IPython.notebook.set_dirty(true);\n",
       "    this.send_message('ack', {});\n",
       "    var fig = this;\n",
       "    // Wait a second, then push the new image to the DOM so\n",
       "    // that it is saved nicely (might be nice to debounce this).\n",
       "    setTimeout(function () {\n",
       "        fig.push_to_output();\n",
       "    }, 1000);\n",
       "};\n",
       "\n",
       "mpl.figure.prototype._init_toolbar = function () {\n",
       "    var fig = this;\n",
       "\n",
       "    var toolbar = document.createElement('div');\n",
       "    toolbar.classList = 'btn-toolbar';\n",
       "    this.root.appendChild(toolbar);\n",
       "\n",
       "    function on_click_closure(name) {\n",
       "        return function (_event) {\n",
       "            return fig.toolbar_button_onclick(name);\n",
       "        };\n",
       "    }\n",
       "\n",
       "    function on_mouseover_closure(tooltip) {\n",
       "        return function (event) {\n",
       "            if (!event.currentTarget.disabled) {\n",
       "                return fig.toolbar_button_onmouseover(tooltip);\n",
       "            }\n",
       "        };\n",
       "    }\n",
       "\n",
       "    fig.buttons = {};\n",
       "    var buttonGroup = document.createElement('div');\n",
       "    buttonGroup.classList = 'btn-group';\n",
       "    var button;\n",
       "    for (var toolbar_ind in mpl.toolbar_items) {\n",
       "        var name = mpl.toolbar_items[toolbar_ind][0];\n",
       "        var tooltip = mpl.toolbar_items[toolbar_ind][1];\n",
       "        var image = mpl.toolbar_items[toolbar_ind][2];\n",
       "        var method_name = mpl.toolbar_items[toolbar_ind][3];\n",
       "\n",
       "        if (!name) {\n",
       "            /* Instead of a spacer, we start a new button group. */\n",
       "            if (buttonGroup.hasChildNodes()) {\n",
       "                toolbar.appendChild(buttonGroup);\n",
       "            }\n",
       "            buttonGroup = document.createElement('div');\n",
       "            buttonGroup.classList = 'btn-group';\n",
       "            continue;\n",
       "        }\n",
       "\n",
       "        button = fig.buttons[name] = document.createElement('button');\n",
       "        button.classList = 'btn btn-default';\n",
       "        button.href = '#';\n",
       "        button.title = name;\n",
       "        button.innerHTML = '<i class=\"fa ' + image + ' fa-lg\"></i>';\n",
       "        button.addEventListener('click', on_click_closure(method_name));\n",
       "        button.addEventListener('mouseover', on_mouseover_closure(tooltip));\n",
       "        buttonGroup.appendChild(button);\n",
       "    }\n",
       "\n",
       "    if (buttonGroup.hasChildNodes()) {\n",
       "        toolbar.appendChild(buttonGroup);\n",
       "    }\n",
       "\n",
       "    // Add the status bar.\n",
       "    var status_bar = document.createElement('span');\n",
       "    status_bar.classList = 'mpl-message pull-right';\n",
       "    toolbar.appendChild(status_bar);\n",
       "    this.message = status_bar;\n",
       "\n",
       "    // Add the close button to the window.\n",
       "    var buttongrp = document.createElement('div');\n",
       "    buttongrp.classList = 'btn-group inline pull-right';\n",
       "    button = document.createElement('button');\n",
       "    button.classList = 'btn btn-mini btn-primary';\n",
       "    button.href = '#';\n",
       "    button.title = 'Stop Interaction';\n",
       "    button.innerHTML = '<i class=\"fa fa-power-off icon-remove icon-large\"></i>';\n",
       "    button.addEventListener('click', function (_evt) {\n",
       "        fig.handle_close(fig, {});\n",
       "    });\n",
       "    button.addEventListener(\n",
       "        'mouseover',\n",
       "        on_mouseover_closure('Stop Interaction')\n",
       "    );\n",
       "    buttongrp.appendChild(button);\n",
       "    var titlebar = this.root.querySelector('.ui-dialog-titlebar');\n",
       "    titlebar.insertBefore(buttongrp, titlebar.firstChild);\n",
       "};\n",
       "\n",
       "mpl.figure.prototype._remove_fig_handler = function (event) {\n",
       "    var fig = event.data.fig;\n",
       "    if (event.target !== this) {\n",
       "        // Ignore bubbled events from children.\n",
       "        return;\n",
       "    }\n",
       "    fig.close_ws(fig, {});\n",
       "};\n",
       "\n",
       "mpl.figure.prototype._root_extra_style = function (el) {\n",
       "    el.style.boxSizing = 'content-box'; // override notebook setting of border-box.\n",
       "};\n",
       "\n",
       "mpl.figure.prototype._canvas_extra_style = function (el) {\n",
       "    // this is important to make the div 'focusable\n",
       "    el.setAttribute('tabindex', 0);\n",
       "    // reach out to IPython and tell the keyboard manager to turn it's self\n",
       "    // off when our div gets focus\n",
       "\n",
       "    // location in version 3\n",
       "    if (IPython.notebook.keyboard_manager) {\n",
       "        IPython.notebook.keyboard_manager.register_events(el);\n",
       "    } else {\n",
       "        // location in version 2\n",
       "        IPython.keyboard_manager.register_events(el);\n",
       "    }\n",
       "};\n",
       "\n",
       "mpl.figure.prototype._key_event_extra = function (event, _name) {\n",
       "    // Check for shift+enter\n",
       "    if (event.shiftKey && event.which === 13) {\n",
       "        this.canvas_div.blur();\n",
       "        // select the cell after this one\n",
       "        var index = IPython.notebook.find_cell_index(this.cell_info[0]);\n",
       "        IPython.notebook.select(index + 1);\n",
       "    }\n",
       "};\n",
       "\n",
       "mpl.figure.prototype.handle_save = function (fig, _msg) {\n",
       "    fig.ondownload(fig, null);\n",
       "};\n",
       "\n",
       "mpl.find_output_cell = function (html_output) {\n",
       "    // Return the cell and output element which can be found *uniquely* in the notebook.\n",
       "    // Note - this is a bit hacky, but it is done because the \"notebook_saving.Notebook\"\n",
       "    // IPython event is triggered only after the cells have been serialised, which for\n",
       "    // our purposes (turning an active figure into a static one), is too late.\n",
       "    var cells = IPython.notebook.get_cells();\n",
       "    var ncells = cells.length;\n",
       "    for (var i = 0; i < ncells; i++) {\n",
       "        var cell = cells[i];\n",
       "        if (cell.cell_type === 'code') {\n",
       "            for (var j = 0; j < cell.output_area.outputs.length; j++) {\n",
       "                var data = cell.output_area.outputs[j];\n",
       "                if (data.data) {\n",
       "                    // IPython >= 3 moved mimebundle to data attribute of output\n",
       "                    data = data.data;\n",
       "                }\n",
       "                if (data['text/html'] === html_output) {\n",
       "                    return [cell, data, j];\n",
       "                }\n",
       "            }\n",
       "        }\n",
       "    }\n",
       "};\n",
       "\n",
       "// Register the function which deals with the matplotlib target/channel.\n",
       "// The kernel may be null if the page has been refreshed.\n",
       "if (IPython.notebook.kernel !== null) {\n",
       "    IPython.notebook.kernel.comm_manager.register_target(\n",
       "        'matplotlib',\n",
       "        mpl.mpl_figure_comm\n",
       "    );\n",
       "}\n"
      ],
      "text/plain": [
       "<IPython.core.display.Javascript object>"
      ]
     },
     "metadata": {},
     "output_type": "display_data"
    },
    {
     "data": {
      "text/html": [
       "<img src=\"data:image/png;base64,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\" width=\"640\">"
      ],
      "text/plain": [
       "<IPython.core.display.HTML object>"
      ]
     },
     "metadata": {},
     "output_type": "display_data"
    }
   ],
   "source": [
    "fig1 = env.plot()"
   ]
  },
  {
   "cell_type": "code",
   "execution_count": 10,
   "metadata": {},
   "outputs": [],
   "source": [
    "prm = PRM(env, 1.5)"
   ]
  },
  {
   "cell_type": "code",
   "execution_count": 11,
   "metadata": {},
   "outputs": [],
   "source": [
    "for i in range(500):\n",
    "    prm.add_node()"
   ]
  },
  {
   "cell_type": "code",
   "execution_count": 12,
   "metadata": {},
   "outputs": [],
   "source": [
    "prm.plot()"
   ]
  },
  {
   "cell_type": "code",
   "execution_count": 13,
   "metadata": {},
   "outputs": [
    {
     "data": {
      "text/plain": [
       "[array([5.27908823, 5.6254295 ]),\n",
       " array([5.21696122, 0.6491603 ]),\n",
       " array([5.2440408 , 3.82566146]),\n",
       " array([4.01495444, 3.89883065]),\n",
       " array([3.96900003, 3.74349668])]"
      ]
     },
     "execution_count": 13,
     "metadata": {},
     "output_type": "execute_result"
    }
   ],
   "source": [
    "prm.nodes"
   ]
  },
  {
   "cell_type": "code",
   "execution_count": 14,
   "metadata": {},
   "outputs": [
    {
     "data": {
      "text/plain": [
       "[[], [], [], [4], [0]]"
      ]
     },
     "execution_count": 14,
     "metadata": {},
     "output_type": "execute_result"
    }
   ],
   "source": [
    "prm.adj_list"
   ]
  },
  {
   "cell_type": "code",
   "execution_count": 12,
   "metadata": {},
   "outputs": [
    {
     "data": {
      "text/plain": [
       "array([[5.27908823, 5.6254295 ],\n",
       "       [5.21696122, 0.6491603 ],\n",
       "       [5.2440408 , 3.82566146],\n",
       "       [4.01495444, 3.89883065],\n",
       "       [3.96900003, 3.74349668]])"
      ]
     },
     "execution_count": 12,
     "metadata": {},
     "output_type": "execute_result"
    }
   ],
   "source": [
    "np.array(prm.nodes)"
   ]
  },
  {
   "cell_type": "code",
   "execution_count": 24,
   "metadata": {
    "scrolled": true
   },
   "outputs": [
    {
     "data": {
      "text/plain": [
       "False"
      ]
     },
     "execution_count": 24,
     "metadata": {},
     "output_type": "execute_result"
    }
   ],
   "source": [
    "env.check_collision_np(np.array([4,2]))"
   ]
  },
  {
   "cell_type": "code",
   "execution_count": 5,
   "metadata": {},
   "outputs": [
    {
     "data": {
      "text/plain": [
       "False"
      ]
     },
     "execution_count": 5,
     "metadata": {},
     "output_type": "execute_result"
    }
   ],
   "source": [
    "env.check_collision(4,2)"
   ]
  },
  {
   "cell_type": "code",
   "execution_count": 45,
   "metadata": {},
   "outputs": [
    {
     "data": {
      "text/plain": [
       "(array([0, 0, 1, 2, 2, 3, 3, 4, 4], dtype=int64),\n",
       " array([0, 2, 0, 0, 1, 0, 2, 0, 1], dtype=int64))"
      ]
     },
     "execution_count": 45,
     "metadata": {},
     "output_type": "execute_result"
    }
   ],
   "source": [
    "np.where(rx > 0)"
   ]
  },
  {
   "cell_type": "code",
   "execution_count": 36,
   "metadata": {},
   "outputs": [],
   "source": [
    "a = np.array([7.75,5.3])\n",
    "b = np.array([6,2.5])"
   ]
  },
  {
   "cell_type": "code",
   "execution_count": 37,
   "metadata": {},
   "outputs": [],
   "source": [
    "env.plot_query(a[0], a[1], b[0], b[1])"
   ]
  },
  {
   "cell_type": "code",
   "execution_count": 38,
   "metadata": {},
   "outputs": [
    {
     "data": {
      "text/plain": [
       "False"
      ]
     },
     "execution_count": 38,
     "metadata": {},
     "output_type": "execute_result"
    }
   ],
   "source": [
    "env.check_segment_outside_np(a,b)"
   ]
  },
  {
   "cell_type": "code",
   "execution_count": 39,
   "metadata": {},
   "outputs": [],
   "source": [
    "rx = np.matmul(env.As, a) - env.Cs"
   ]
  },
  {
   "cell_type": "code",
   "execution_count": 40,
   "metadata": {},
   "outputs": [],
   "source": [
    "ry = np.matmul(env.As, b) - env.Cs"
   ]
  },
  {
   "cell_type": "code",
   "execution_count": 41,
   "metadata": {},
   "outputs": [
    {
     "data": {
      "text/plain": [
       "array([[  2.04489421,  -8.69551224,   9.24609915],\n",
       "       [ 32.88859699, -21.59318447,  -8.04955231],\n",
       "       [  2.15945532,   5.07122839,  -1.97647658],\n",
       "       [  1.38783803,  -0.30199551,   0.69765064],\n",
       "       [ 17.379729  ,   3.17878416, -15.12960409]])"
      ]
     },
     "execution_count": 41,
     "metadata": {},
     "output_type": "execute_result"
    }
   ],
   "source": [
    "rx"
   ]
  },
  {
   "cell_type": "code",
   "execution_count": 42,
   "metadata": {},
   "outputs": [
    {
     "data": {
      "text/plain": [
       "array([[  3.64619694,  -6.23338547,   5.18266966],\n",
       "       [  8.136525  ,  -4.364351  ,  -0.52631379],\n",
       "       [ 17.68198245,   7.19419247, -19.6219678 ],\n",
       "       [ 12.44405696,  10.37069007, -21.03125387],\n",
       "       [  6.38431237,   1.98988827,  -2.94529157]])"
      ]
     },
     "execution_count": 42,
     "metadata": {},
     "output_type": "execute_result"
    }
   ],
   "source": [
    "ry"
   ]
  },
  {
   "cell_type": "code",
   "execution_count": 43,
   "metadata": {},
   "outputs": [],
   "source": [
    "left_x = rx < 0\n",
    "left_y = ry < 0"
   ]
  },
  {
   "cell_type": "code",
   "execution_count": 44,
   "metadata": {},
   "outputs": [
    {
     "data": {
      "text/plain": [
       "array([[False,  True, False],\n",
       "       [False,  True,  True],\n",
       "       [False, False,  True],\n",
       "       [False, False, False],\n",
       "       [False, False,  True]])"
      ]
     },
     "execution_count": 44,
     "metadata": {},
     "output_type": "execute_result"
    }
   ],
   "source": [
    "np.logical_and(left_x, left_y)"
   ]
  },
  {
   "cell_type": "code",
   "execution_count": 16,
   "metadata": {},
   "outputs": [],
   "source": [
    "cond_1 = np.all(np.any(np.logical_and(left_x, left_y), 1))"
   ]
  },
  {
   "cell_type": "code",
   "execution_count": 17,
   "metadata": {},
   "outputs": [
    {
     "data": {
      "text/plain": [
       "False"
      ]
     },
     "execution_count": 17,
     "metadata": {},
     "output_type": "execute_result"
    }
   ],
   "source": [
    "cond_1"
   ]
  },
  {
   "cell_type": "code",
   "execution_count": 21,
   "metadata": {},
   "outputs": [],
   "source": [
    "v = b - a"
   ]
  },
  {
   "cell_type": "code",
   "execution_count": 22,
   "metadata": {},
   "outputs": [
    {
     "data": {
      "text/plain": [
       "array([-2.5,  2. ])"
      ]
     },
     "execution_count": 22,
     "metadata": {},
     "output_type": "execute_result"
    }
   ],
   "source": [
    "v"
   ]
  },
  {
   "cell_type": "code",
   "execution_count": 23,
   "metadata": {},
   "outputs": [],
   "source": [
    "u = env.verts - a"
   ]
  },
  {
   "cell_type": "code",
   "execution_count": 26,
   "metadata": {},
   "outputs": [
    {
     "data": {
      "text/plain": [
       "array([[[ 1.17029839,  2.7833935 ],\n",
       "        [ 1.2268436 ,  3.78889596],\n",
       "        [-1.52271175,  0.79653697]],\n",
       "\n",
       "       [[ 1.26274455, -0.46261847],\n",
       "        [-5.97017638,  2.10874919],\n",
       "        [-0.70617078,  0.68611045]],\n",
       "\n",
       "       [[ 0.12993236,  5.40040406],\n",
       "        [-6.86157759,  3.08400366],\n",
       "        [-8.41013902,  1.8194277 ]],\n",
       "\n",
       "       [[-8.05839942,  5.23991781],\n",
       "        [-4.13853353,  5.19386384],\n",
       "        [-0.63694014,  4.69773579]],\n",
       "\n",
       "       [[-6.76834579, -0.05030848],\n",
       "        [-2.49257279,  0.5078331 ],\n",
       "        [-1.16619832,  1.95066316]]])"
      ]
     },
     "execution_count": 26,
     "metadata": {},
     "output_type": "execute_result"
    }
   ],
   "source": [
    "u"
   ]
  },
  {
   "cell_type": "code",
   "execution_count": 30,
   "metadata": {},
   "outputs": [],
   "source": [
    "c = np.cross(v, u)"
   ]
  },
  {
   "cell_type": "code",
   "execution_count": 31,
   "metadata": {},
   "outputs": [
    {
     "data": {
      "text/plain": [
       "array([[ -9.29908052, -11.9259271 ,   1.05408107],\n",
       "       [ -1.36894292,   6.66847977,  -0.30293455],\n",
       "       [-13.76087487,   6.01314601,  12.27170881],\n",
       "       [  3.01700433,  -4.70759254, -10.4704592 ],\n",
       "       [ 13.66246276,   3.71556282,  -2.54426125]])"
      ]
     },
     "execution_count": 31,
     "metadata": {},
     "output_type": "execute_result"
    }
   ],
   "source": [
    "c"
   ]
  },
  {
   "cell_type": "code",
   "execution_count": 34,
   "metadata": {},
   "outputs": [],
   "source": [
    "cond_2 = np.logical_or(np.all(c < 0, 1), np.all(c > 0, 1))"
   ]
  },
  {
   "cell_type": "code",
   "execution_count": 35,
   "metadata": {},
   "outputs": [
    {
     "data": {
      "text/plain": [
       "array([False, False, False, False, False])"
      ]
     },
     "execution_count": 35,
     "metadata": {},
     "output_type": "execute_result"
    }
   ],
   "source": [
    "cond_2"
   ]
  },
  {
   "cell_type": "code",
   "execution_count": 18,
   "metadata": {
    "scrolled": true
   },
   "outputs": [
    {
     "ename": "AttributeError",
     "evalue": "'TriangularObstacle' object has no attribute 'segmentOutside'",
     "output_type": "error",
     "traceback": [
      "\u001b[1;31m---------------------------------------------------------------------------\u001b[0m",
      "\u001b[1;31mAttributeError\u001b[0m                            Traceback (most recent call last)",
      "Input \u001b[1;32mIn [18]\u001b[0m, in \u001b[0;36m<cell line: 1>\u001b[1;34m()\u001b[0m\n\u001b[1;32m----> 1\u001b[0m \u001b[43menv\u001b[49m\u001b[38;5;241;43m.\u001b[39;49m\u001b[43mobs\u001b[49m\u001b[43m[\u001b[49m\u001b[38;5;241;43m0\u001b[39;49m\u001b[43m]\u001b[49m\u001b[38;5;241;43m.\u001b[39;49m\u001b[43msegmentOutside\u001b[49m(a,b)\n",
      "\u001b[1;31mAttributeError\u001b[0m: 'TriangularObstacle' object has no attribute 'segmentOutside'"
     ]
    }
   ],
   "source": [
    "env.obs[0].segmentOutside(a,b)"
   ]
  },
  {
   "cell_type": "code",
   "execution_count": 19,
   "metadata": {},
   "outputs": [
    {
     "data": {
      "text/plain": [
       "False"
      ]
     },
     "execution_count": 19,
     "metadata": {},
     "output_type": "execute_result"
    }
   ],
   "source": [
    "env.obs[0].contains_np(a)"
   ]
  },
  {
   "cell_type": "code",
   "execution_count": 24,
   "metadata": {},
   "outputs": [
    {
     "data": {
      "text/plain": [
       "False"
      ]
     },
     "execution_count": 24,
     "metadata": {},
     "output_type": "execute_result"
    }
   ],
   "source": [
    "env.obs[0].contains_np(b)"
   ]
  },
  {
   "cell_type": "code",
   "execution_count": 12,
   "metadata": {},
   "outputs": [
    {
     "data": {
      "text/plain": [
       "array([[[-1.00550247,  0.05654521],\n",
       "        [ 2.99235899, -2.74955535],\n",
       "        [-1.98685652,  2.69301014]]])"
      ]
     },
     "execution_count": 12,
     "metadata": {},
     "output_type": "execute_result"
    }
   ],
   "source": [
    "env.As"
   ]
  },
  {
   "cell_type": "code",
   "execution_count": 13,
   "metadata": {},
   "outputs": [
    {
     "data": {
      "text/plain": [
       "array([[-25.9206731 ,  16.03868302,  -8.36829119],\n",
       "       [ -5.08577056,   0.44449037,   4.44699887],\n",
       "       [ 19.10568612, -14.98781876,  -4.30677181],\n",
       "       [-21.50019521,  -3.59396373,  17.53355625],\n",
       "       [ -2.84422323,  -1.45600461,   3.36028725]])"
      ]
     },
     "execution_count": 13,
     "metadata": {},
     "output_type": "execute_result"
    }
   ],
   "source": [
    "env.Cs"
   ]
  },
  {
   "cell_type": "code",
   "execution_count": 14,
   "metadata": {},
   "outputs": [],
   "source": [
    "n = np.array([6,2])"
   ]
  },
  {
   "cell_type": "code",
   "execution_count": 15,
   "metadata": {},
   "outputs": [],
   "source": [
    "v = np.dot(env.As, n) - env.Cs"
   ]
  },
  {
   "cell_type": "code",
   "execution_count": 16,
   "metadata": {},
   "outputs": [
    {
     "data": {
      "text/plain": [
       "array([[-3.81268811e+00,  6.96310496e+00,  1.50998644e+01],\n",
       "       [ 2.18858269e+00,  3.95604650e-01, -2.38990603e+00],\n",
       "       [ 3.79027222e-01, -1.92730247e-01,  2.60748079e-03],\n",
       "       [ 5.25020794e+00,  2.58218688e+00, -2.71792136e-01],\n",
       "       [ 2.27844172e+00,  2.33753468e-01, -1.57225459e+00]])"
      ]
     },
     "execution_count": 16,
     "metadata": {},
     "output_type": "execute_result"
    }
   ],
   "source": [
    "v"
   ]
  },
  {
   "cell_type": "code",
   "execution_count": 17,
   "metadata": {},
   "outputs": [
    {
     "data": {
      "text/plain": [
       "False"
      ]
     },
     "execution_count": 17,
     "metadata": {},
     "output_type": "execute_result"
    }
   ],
   "source": [
    "np.any(np.all(v > 0, 1))"
   ]
  },
  {
   "cell_type": "code",
   "execution_count": 6,
   "metadata": {},
   "outputs": [
    {
     "name": "stdout",
     "output_type": "stream",
     "text": [
      "obs: 8.629932355992223,5.900404063051877 1.6384224140469872,3.584003663597155 0.08986097667554982,2.3194276958617763\n",
      "False\n"
     ]
    }
   ],
   "source": [
    "for obs in env.obs:\n",
    "    print(f\"obs: {obs.x0},{obs.y0} {obs.x1},{obs.y1} {obs.x2},{obs.y2}\")\n",
    "    print(obs.contains(6,2))"
   ]
  },
  {
   "cell_type": "code",
   "execution_count": null,
   "metadata": {},
   "outputs": [],
   "source": []
  }
 ],
 "metadata": {
  "kernelspec": {
   "display_name": "Python 3 (ipykernel)",
   "language": "python",
   "name": "python3"
  },
  "language_info": {
   "codemirror_mode": {
    "name": "ipython",
    "version": 3
   },
   "file_extension": ".py",
   "mimetype": "text/x-python",
   "name": "python",
   "nbconvert_exporter": "python",
   "pygments_lexer": "ipython3",
   "version": "3.8.10"
  },
  "vscode": {
   "interpreter": {
    "hash": "993007988b91dcd55b579870bca43a4d49c55feae8650dc23d8eb805e51ff530"
   }
  }
 },
 "nbformat": 4,
 "nbformat_minor": 2
}
